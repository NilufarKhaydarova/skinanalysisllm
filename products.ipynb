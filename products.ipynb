{
 "cells": [
  {
   "cell_type": "code",
   "execution_count": null,
   "metadata": {},
   "outputs": [],
   "source": [
    "import undetected_chromedriver as uc\n",
    "from bs4 import BeautifulSoup\n",
    "import pandas as pd\n",
    "import json\n",
    "import time\n",
    "\n",
    "def scrape_comax_links():\n",
    "    driver = uc.Chrome(version_main=135, headless=True, use_subprocess=True)\n",
    "\n",
    "    base_url = \"https://comax.uz\"\n",
    "    listing_url = base_url + \"/ru/2-vse-tovary\"\n",
    "    product_links = []\n",
    "\n",
    "    try:\n",
    "        for page in range(1, 54):  # Pages 1 to 53\n",
    "            url = f\"{listing_url}?page={page}\"\n",
    "            print(f\"[DEBUG] Scraping page {page} → {url}\")\n",
    "            driver.get(url)\n",
    "            time.sleep(3)\n",
    "\n",
    "            soup = BeautifulSoup(driver.page_source, \"html.parser\")\n",
    "            json_ld_blocks = soup.find_all(\"script\", type=\"application/ld+json\")\n",
    "\n",
    "            for block in json_ld_blocks:\n",
    "                if block.string and \"itemListElement\" in block.string:\n",
    "                    try:\n",
    "                        data = json.loads(block.string)\n",
    "                        for item in data.get(\"itemListElement\", []):\n",
    "                            name = item.get(\"name\")\n",
    "                            url = item.get(\"url\")\n",
    "                            if name and url:\n",
    "                                product_links.append({\"name\": name, \"product_url\": url})\n",
    "                        print(f\"[DEBUG] Page {page}: Found {len(data['itemListElement'])} products\")\n",
    "                        break\n",
    "                    except Exception as e:\n",
    "                        print(f\"[JSON-LD parse error on page {page}] {e}\")\n",
    "    except Exception as e:\n",
    "        print(f\"[comax fail] {e}\")\n",
    "    finally:\n",
    "        driver.quit()\n",
    "\n",
    "    print(f\"[DEBUG] Total products collected: {len(product_links)}\")\n",
    "    return product_links\n"
   ]
  },
  {
   "cell_type": "code",
   "execution_count": null,
   "metadata": {},
   "outputs": [],
   "source": [
    "products = scrape_comax_links()"
   ]
  },
  {
   "cell_type": "code",
   "execution_count": null,
   "metadata": {},
   "outputs": [],
   "source": [
    "print(products)"
   ]
  },
  {
   "cell_type": "code",
   "execution_count": null,
   "metadata": {},
   "outputs": [],
   "source": [
    "products = pd.DataFrame(products)"
   ]
  },
  {
   "cell_type": "code",
   "execution_count": null,
   "metadata": {},
   "outputs": [],
   "source": [
    "products.to_pickle(\"products.pkl\")"
   ]
  },
  {
   "cell_type": "code",
   "execution_count": null,
   "metadata": {},
   "outputs": [],
   "source": []
  }
 ],
 "metadata": {
  "kernelspec": {
   "display_name": "work",
   "language": "python",
   "name": "python3"
  },
  "language_info": {
   "codemirror_mode": {
    "name": "ipython",
    "version": 3
   },
   "file_extension": ".py",
   "mimetype": "text/x-python",
   "name": "python",
   "nbconvert_exporter": "python",
   "pygments_lexer": "ipython3",
   "version": "3.10.6"
  }
 },
 "nbformat": 4,
 "nbformat_minor": 2
}
